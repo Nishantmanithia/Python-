{
 "cells": [
  {
   "cell_type": "markdown",
   "id": "a590b930",
   "metadata": {},
   "source": [
    "How to Define a Class in Python?\n",
    "Classes in Python can be defined by the keyword class, which is followed by the name of the class and a colon.\n"
   ]
  },
  {
   "cell_type": "code",
   "execution_count": 1,
   "id": "67fdd296",
   "metadata": {},
   "outputs": [],
   "source": [
    "class Human:\n",
    "    pass\n"
   ]
  },
  {
   "cell_type": "markdown",
   "id": "7173656e",
   "metadata": {},
   "source": [
    "'pass' is commonly used as placeholders, in the place of code whose implementation we may skip for the time being. \"pass\" allows us to run the code without throwing an error in Python."
   ]
  },
  {
   "cell_type": "markdown",
   "id": "82097007",
   "metadata": {},
   "source": [
    "\" __init__ \" method"
   ]
  },
  {
   "cell_type": "markdown",
   "id": "e27e9808",
   "metadata": {},
   "source": [
    "The Default __init__ Constructor in C++ and Java. Constructors are used to initializing the object’s state. The task of constructors is to initialize(assign values) to the data members of the class when an object of the class is created. Like methods, a constructor also contains a collection of statements(i.e. instructions) that are executed at the time of Object creation. It is run as soon as an object of a class is instantiated. The method is useful to do any initialization you want to do with your object."
   ]
  },
  {
   "cell_type": "markdown",
   "id": "7c4fa70c",
   "metadata": {},
   "source": [
    "The self parameter is a reference to the current instance of the class, and is used to access variables that belongs to the class."
   ]
  },
  {
   "cell_type": "markdown",
   "id": "ebf196c4",
   "metadata": {},
   "source": [
    "Class Attribute:\n",
    "These are the variables that are same for all instances of the class. They do not have new values for each new instance created. They are defined just below the class definition."
   ]
  },
  {
   "cell_type": "code",
   "execution_count": 2,
   "id": "81ab99ff",
   "metadata": {},
   "outputs": [],
   "source": [
    "class Human:\n",
    "    #class attribute\n",
    "    species = \"Homo Sapiens\""
   ]
  },
  {
   "cell_type": "markdown",
   "id": "4fe4304a",
   "metadata": {},
   "source": [
    "the species will have a fixed value for any object we create.\n",
    "\n"
   ]
  },
  {
   "cell_type": "markdown",
   "id": "bb1bed78",
   "metadata": {},
   "source": [
    "Instance Attribute:\n",
    "Instance attributes are the variables which are defined inside of any function in class. Instance attribute have different values for every instance of the class. These values depends upon the value we pass while creating the instance."
   ]
  },
  {
   "cell_type": "code",
   "execution_count": 3,
   "id": "dcf15520",
   "metadata": {},
   "outputs": [],
   "source": [
    "class Human:\n",
    "    #class attribute\n",
    "    species = \"Homo Sapiens\"\n",
    "    def __init__(self, name, age, gender):\n",
    "        self.name = name\n",
    "        self.age = age\n",
    "        self.gender = gender"
   ]
  },
  {
   "cell_type": "markdown",
   "id": "2b3fb3ab",
   "metadata": {},
   "source": [
    "Here, name,age and gender are the instance attributes. They will have different values as for new instances of class."
   ]
  },
  {
   "cell_type": "markdown",
   "id": "3ad49c97",
   "metadata": {},
   "source": [
    "Creating an Object in Class\n",
    "When we create a new object from a class, it is called instantiating an object. An object can be instantiated by the class name followed by the parantheses. We can assign the object of a class to any variable."
   ]
  },
  {
   "cell_type": "markdown",
   "id": "cc0d315a",
   "metadata": {},
   "source": [
    " x = ClassName()"
   ]
  },
  {
   "cell_type": "code",
   "execution_count": 5,
   "id": "f40ff9a8",
   "metadata": {},
   "outputs": [],
   "source": [
    "class Human:\n",
    "    #class attribute\n",
    "    species = \"Homo Sapiens\"\n",
    "    def __init__(self, name, age, gender):\n",
    "        self.name = name\n",
    "        self.age = age\n",
    "        self.gender = gender\n",
    "        \n",
    "x = Human(\"Ron\", 15, \"Male\") \n",
    "y = Human(\"Miley\", 22, \"Female\")"
   ]
  },
  {
   "cell_type": "markdown",
   "id": "d97f74f8",
   "metadata": {},
   "source": [
    "NOTE : If we do not pass the required arguments, it will throw a TypeError: TypeError: init() missing 3 required positional arguments: 'name', 'age' and 'gender'."
   ]
  },
  {
   "cell_type": "markdown",
   "id": "fdd754a1",
   "metadata": {},
   "source": [
    " We can access the values of the instances by using the dot notation."
   ]
  },
  {
   "cell_type": "code",
   "execution_count": 6,
   "id": "945f50de",
   "metadata": {},
   "outputs": [
    {
     "name": "stdout",
     "output_type": "stream",
     "text": [
      "Ron\n",
      "Miley\n"
     ]
    }
   ],
   "source": [
    "class Human:\n",
    "    #class attribute\n",
    "    species = \"Homo Sapiens\"\n",
    "    def __init__(self, name, age, gender):\n",
    "        self.name = name\n",
    "        self.age = age\n",
    "        self.gender = gender\n",
    "        \n",
    "x = Human(\"Ron\", 15, \"Male\") \n",
    "y = Human(\"Miley\", 22, \"Female\")\n",
    "print(x.name)\n",
    "print(y.name)"
   ]
  },
  {
   "cell_type": "code",
   "execution_count": null,
   "id": "9f870406",
   "metadata": {},
   "outputs": [],
   "source": [
    "class Human:\n",
    "    species = \"Homo Sapiens\"\n",
    "\n",
    "    def __init__(self, name, age, gender):\n",
    "        self.name = name\n",
    "        self.age = age\n",
    "        self.gender = gender\n",
    "\n",
    "\n",
    "# x and y are instances of class Human\n",
    "x = Human(\"Ron\", 15, \"male\")\n",
    "y = Human(\"Miley\", 22, \"female\")\n",
    "\n",
    "print(x.species)  # species are class attributes, hence will have same value for all instances\n",
    "print(y.species)\n",
    "\n",
    "# name, gender and age will have different values per instance, because they are instance attributes\n",
    "print(f\"Hi! My name is {x.name}. I am a {x.gender}, and I am {x.age} years old\")\n",
    "print(f\"Hi! My name is {y.name}. I am a {y.gender}, and I am {y.age} years old\")\n"
   ]
  },
  {
   "cell_type": "code",
   "execution_count": null,
   "id": "666dde59",
   "metadata": {},
   "outputs": [],
   "source": []
  }
 ],
 "metadata": {
  "kernelspec": {
   "display_name": "Python 3 (ipykernel)",
   "language": "python",
   "name": "python3"
  },
  "language_info": {
   "codemirror_mode": {
    "name": "ipython",
    "version": 3
   },
   "file_extension": ".py",
   "mimetype": "text/x-python",
   "name": "python",
   "nbconvert_exporter": "python",
   "pygments_lexer": "ipython3",
   "version": "3.9.12"
  }
 },
 "nbformat": 4,
 "nbformat_minor": 5
}
