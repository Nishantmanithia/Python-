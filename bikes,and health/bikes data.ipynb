{
 "cells": [
  {
   "cell_type": "code",
   "execution_count": 3,
   "id": "ed9d2401",
   "metadata": {},
   "outputs": [],
   "source": [
    "import pandas as pd\n",
    "import numpy as np\n",
    "import matplotlib.pyplot as mp"
   ]
  },
  {
   "cell_type": "code",
   "execution_count": 4,
   "id": "6576f74a",
   "metadata": {},
   "outputs": [],
   "source": [
    "df=pd.read_csv(\"nkm.csv\")"
   ]
  },
  {
   "cell_type": "code",
   "execution_count": 5,
   "id": "b37122b1",
   "metadata": {},
   "outputs": [
    {
     "data": {
      "text/html": [
       "<div>\n",
       "<style scoped>\n",
       "    .dataframe tbody tr th:only-of-type {\n",
       "        vertical-align: middle;\n",
       "    }\n",
       "\n",
       "    .dataframe tbody tr th {\n",
       "        vertical-align: top;\n",
       "    }\n",
       "\n",
       "    .dataframe thead th {\n",
       "        text-align: right;\n",
       "    }\n",
       "</style>\n",
       "<table border=\"1\" class=\"dataframe\">\n",
       "  <thead>\n",
       "    <tr style=\"text-align: right;\">\n",
       "      <th></th>\n",
       "      <th>model_name</th>\n",
       "      <th>model_year</th>\n",
       "      <th>kms_driven</th>\n",
       "      <th>owner</th>\n",
       "      <th>location</th>\n",
       "      <th>mileage</th>\n",
       "      <th>power</th>\n",
       "      <th>price</th>\n",
       "    </tr>\n",
       "  </thead>\n",
       "  <tbody>\n",
       "    <tr>\n",
       "      <th>0</th>\n",
       "      <td>Bajaj Avenger Cruise 220 2017</td>\n",
       "      <td>2017</td>\n",
       "      <td>17000 Km</td>\n",
       "      <td>first owner</td>\n",
       "      <td>hyderabad</td>\n",
       "      <td>\\n\\n 35 kmpl</td>\n",
       "      <td>19 bhp</td>\n",
       "      <td>63500</td>\n",
       "    </tr>\n",
       "    <tr>\n",
       "      <th>1</th>\n",
       "      <td>Royal Enfield Classic 350cc 2016</td>\n",
       "      <td>2016</td>\n",
       "      <td>50000 Km</td>\n",
       "      <td>first owner</td>\n",
       "      <td>hyderabad</td>\n",
       "      <td>\\n\\n 35 kmpl</td>\n",
       "      <td>19.80 bhp</td>\n",
       "      <td>115000</td>\n",
       "    </tr>\n",
       "    <tr>\n",
       "      <th>2</th>\n",
       "      <td>Hyosung GT250R 2012</td>\n",
       "      <td>2012</td>\n",
       "      <td>14795 Km</td>\n",
       "      <td>first owner</td>\n",
       "      <td>hyderabad</td>\n",
       "      <td>\\n\\n 30 kmpl</td>\n",
       "      <td>28 bhp</td>\n",
       "      <td>300000</td>\n",
       "    </tr>\n",
       "    <tr>\n",
       "      <th>3</th>\n",
       "      <td>Bajaj Dominar 400 ABS 2017</td>\n",
       "      <td>2017</td>\n",
       "      <td>Mileage 28 Kms</td>\n",
       "      <td>first owner</td>\n",
       "      <td>pondicherry</td>\n",
       "      <td>\\n\\n 28 Kms</td>\n",
       "      <td>34.50 bhp</td>\n",
       "      <td>100000</td>\n",
       "    </tr>\n",
       "    <tr>\n",
       "      <th>4</th>\n",
       "      <td>Jawa Perak 330cc 2020</td>\n",
       "      <td>2020</td>\n",
       "      <td>2000 Km</td>\n",
       "      <td>first owner</td>\n",
       "      <td>bangalore</td>\n",
       "      <td>\\n\\n</td>\n",
       "      <td>30 bhp</td>\n",
       "      <td>197500</td>\n",
       "    </tr>\n",
       "    <tr>\n",
       "      <th>...</th>\n",
       "      <td>...</td>\n",
       "      <td>...</td>\n",
       "      <td>...</td>\n",
       "      <td>...</td>\n",
       "      <td>...</td>\n",
       "      <td>...</td>\n",
       "      <td>...</td>\n",
       "      <td>...</td>\n",
       "    </tr>\n",
       "    <tr>\n",
       "      <th>7852</th>\n",
       "      <td>Yamaha YZF-R15 150cc 2011</td>\n",
       "      <td>2011</td>\n",
       "      <td>7000 Km</td>\n",
       "      <td>first owner</td>\n",
       "      <td>agra</td>\n",
       "      <td>\\n\\n 42 kmpl</td>\n",
       "      <td>16 bhp</td>\n",
       "      <td>55000</td>\n",
       "    </tr>\n",
       "    <tr>\n",
       "      <th>7853</th>\n",
       "      <td>Bajaj Discover 100cc 2015</td>\n",
       "      <td>2015</td>\n",
       "      <td>Mileage 80 Kmpl</td>\n",
       "      <td>first owner</td>\n",
       "      <td>delhi</td>\n",
       "      <td>\\n\\n 80 Kmpl</td>\n",
       "      <td>7.7</td>\n",
       "      <td>28000</td>\n",
       "    </tr>\n",
       "    <tr>\n",
       "      <th>7854</th>\n",
       "      <td>Bajaj Pulsar 180cc 2016</td>\n",
       "      <td>2016</td>\n",
       "      <td>6407 Km</td>\n",
       "      <td>first owner</td>\n",
       "      <td>bangalore</td>\n",
       "      <td>\\n\\n 65 kmpl</td>\n",
       "      <td>17 bhp</td>\n",
       "      <td>61740</td>\n",
       "    </tr>\n",
       "    <tr>\n",
       "      <th>7855</th>\n",
       "      <td>Bajaj V15 150cc 2016</td>\n",
       "      <td>2016</td>\n",
       "      <td>7524 Km</td>\n",
       "      <td>first owner</td>\n",
       "      <td>bangalore</td>\n",
       "      <td>\\n\\n 57 kmpl</td>\n",
       "      <td>11.80 bhp</td>\n",
       "      <td>49000</td>\n",
       "    </tr>\n",
       "    <tr>\n",
       "      <th>7856</th>\n",
       "      <td>Bajaj Pulsar 220cc 2016</td>\n",
       "      <td>2016</td>\n",
       "      <td>15000 Km</td>\n",
       "      <td>first owner</td>\n",
       "      <td>chennai</td>\n",
       "      <td>\\n\\n 38 kmpl</td>\n",
       "      <td>21 bhp</td>\n",
       "      <td>65000</td>\n",
       "    </tr>\n",
       "  </tbody>\n",
       "</table>\n",
       "<p>7857 rows × 8 columns</p>\n",
       "</div>"
      ],
      "text/plain": [
       "                            model_name  model_year       kms_driven  \\\n",
       "0        Bajaj Avenger Cruise 220 2017        2017         17000 Km   \n",
       "1     Royal Enfield Classic 350cc 2016        2016         50000 Km   \n",
       "2                  Hyosung GT250R 2012        2012         14795 Km   \n",
       "3           Bajaj Dominar 400 ABS 2017        2017   Mileage 28 Kms   \n",
       "4                Jawa Perak 330cc 2020        2020          2000 Km   \n",
       "...                                ...         ...              ...   \n",
       "7852         Yamaha YZF-R15 150cc 2011        2011          7000 Km   \n",
       "7853         Bajaj Discover 100cc 2015        2015  Mileage 80 Kmpl   \n",
       "7854           Bajaj Pulsar 180cc 2016        2016          6407 Km   \n",
       "7855              Bajaj V15 150cc 2016        2016          7524 Km   \n",
       "7856           Bajaj Pulsar 220cc 2016        2016         15000 Km   \n",
       "\n",
       "            owner     location       mileage      power   price  \n",
       "0     first owner    hyderabad  \\n\\n 35 kmpl     19 bhp   63500  \n",
       "1     first owner    hyderabad  \\n\\n 35 kmpl  19.80 bhp  115000  \n",
       "2     first owner    hyderabad  \\n\\n 30 kmpl     28 bhp  300000  \n",
       "3     first owner  pondicherry   \\n\\n 28 Kms  34.50 bhp  100000  \n",
       "4     first owner    bangalore         \\n\\n      30 bhp  197500  \n",
       "...           ...          ...           ...        ...     ...  \n",
       "7852  first owner         agra  \\n\\n 42 kmpl     16 bhp   55000  \n",
       "7853  first owner        delhi  \\n\\n 80 Kmpl        7.7   28000  \n",
       "7854  first owner    bangalore  \\n\\n 65 kmpl     17 bhp   61740  \n",
       "7855  first owner    bangalore  \\n\\n 57 kmpl  11.80 bhp   49000  \n",
       "7856  first owner      chennai  \\n\\n 38 kmpl     21 bhp   65000  \n",
       "\n",
       "[7857 rows x 8 columns]"
      ]
     },
     "execution_count": 5,
     "metadata": {},
     "output_type": "execute_result"
    }
   ],
   "source": [
    "df"
   ]
  },
  {
   "cell_type": "code",
   "execution_count": 6,
   "id": "418ad195",
   "metadata": {},
   "outputs": [
    {
     "data": {
      "text/plain": [
       "model_year\n",
       "1950     55000.000000\n",
       "1970    190000.000000\n",
       "1978    100000.000000\n",
       "1982    112142.857143\n",
       "1985    125000.000000\n",
       "1986     90000.000000\n",
       "1990     82187.500000\n",
       "1991    142000.000000\n",
       "1993     42500.000000\n",
       "1994     57254.000000\n",
       "1996     24500.000000\n",
       "1997     31420.200000\n",
       "1998     45750.000000\n",
       "1999     62000.000000\n",
       "2000    103917.857143\n",
       "2001     54760.000000\n",
       "2002     15047.500000\n",
       "2003     47864.583333\n",
       "2004     25018.481481\n",
       "2005     25710.227273\n",
       "2006     22839.258065\n",
       "2007     23816.950000\n",
       "2008     29684.510870\n",
       "2009     31228.993789\n",
       "2010     37307.552381\n",
       "2011     44003.447761\n",
       "2012     55496.159639\n",
       "2013     71048.410835\n",
       "2014     87844.422581\n",
       "2015    110460.230573\n",
       "2016    106748.441520\n",
       "2017    122712.357759\n",
       "2018    135169.132607\n",
       "2019    141087.430168\n",
       "2020    171692.328947\n",
       "2021    197726.626374\n",
       "Name: price, dtype: float64"
      ]
     },
     "execution_count": 6,
     "metadata": {},
     "output_type": "execute_result"
    }
   ],
   "source": [
    "df.groupby('model_year')['price'].mean()               # average price according to model year"
   ]
  },
  {
   "cell_type": "code",
   "execution_count": 8,
   "id": "5c3276ae",
   "metadata": {},
   "outputs": [
    {
     "data": {
      "text/plain": [
       "model_name\n",
       " Bajaj CT100 B 2016                                                      32000.0\n",
       "Aprilia RSV4 R APRC 1000cc 2014                                        1100000.0\n",
       "Aprilia RSV4 RR 2020                                                    900000.0\n",
       "BMW G 310 GS 2018                                                       290000.0\n",
       "BMW G 310 GS 2019                                                       299000.0\n",
       "                                                                         ...    \n",
       "Yamaha YZF-R3 320cc ABS 2018                                            290000.0\n",
       "Yamaha YZF-R3 320cc ABS 2020                                            300000.0\n",
       "Yamaha YZFR15 2.0 150 2016                                               85000.0\n",
       "Yazdi Road King 250cc 1986                                               60000.0\n",
       "yamaha Libero 110cc 2006                                                  6000.0\n",
       "Name: price, Length: 1724, dtype: float64"
      ]
     },
     "execution_count": 8,
     "metadata": {},
     "output_type": "execute_result"
    }
   ],
   "source": [
    "df.groupby('model_name')['price'].mean() # average price according to model name\n"
   ]
  },
  {
   "cell_type": "code",
   "execution_count": 9,
   "id": "df7bfad8",
   "metadata": {},
   "outputs": [
    {
     "data": {
      "text/plain": [
       "location\n",
       "24 pargana       79842.785714\n",
       "abiramam        100000.000000\n",
       "adalaj           49000.000000\n",
       "adilabad         50000.000000\n",
       "adoni           150000.000000\n",
       "                    ...      \n",
       "washim           92500.000000\n",
       "yamuna nagar     88600.000000\n",
       "yanam            60800.000000\n",
       "yemmiganur       15500.000000\n",
       "zirakpur         89200.000000\n",
       "Name: price, Length: 561, dtype: float64"
      ]
     },
     "execution_count": 9,
     "metadata": {},
     "output_type": "execute_result"
    }
   ],
   "source": [
    "df.groupby('location')['price'].mean()  # average price according to location"
   ]
  },
  {
   "cell_type": "code",
   "execution_count": 10,
   "id": "b9ed4f2c",
   "metadata": {},
   "outputs": [
    {
     "data": {
      "text/plain": [
       "561"
      ]
     },
     "execution_count": 10,
     "metadata": {},
     "output_type": "execute_result"
    }
   ],
   "source": [
    "df['location'].nunique()"
   ]
  },
  {
   "cell_type": "code",
   "execution_count": 10,
   "id": "a9888838",
   "metadata": {},
   "outputs": [
    {
     "data": {
      "text/plain": [
       "array(['hyderabad', 'pondicherry', 'bangalore', 'jaipur', 'chennai',\n",
       "       'ghaziabad', 'delhi', 'ludhiana', 'jaunpur', 'mumbai',\n",
       "       'chittorgarh', 'thalassery', 'bathinda', 'gurgaon', 'dehradun',\n",
       "       'pune', 'kukatpally', 'navi mumbai', 'lucknow', 'siliguri',\n",
       "       'bengaluru', 'rajkot', 'agra', 'bhiwandi', 'patna', 'udaipur',\n",
       "       'bihar shariff', 'jalandhar', 'vadodara', 'visakhapatnam',\n",
       "       'thiruvananthapuram', 'ahmedabad', 'bareilly', 'thane', 'kannur',\n",
       "       'surat', 'kurukshetra', 'moradabad', 'bhagalpur', 'hooghly',\n",
       "       'jhunjhunu', 'kochi', 'srikakulam', 'jamshedpur', 'hazaribagh',\n",
       "       'noida', 'chandigarh', 'reasi', 'ambala', 'panchkula', 'balotra',\n",
       "       'sonipat', 'kolkata', 'jind', 'trivandrum', 'mathura', 'panipat',\n",
       "       'sangli', 'howrah', 'indore', 'pilibhit', 'nagpur', 'jodhpur',\n",
       "       'alipore', 'secunderabad', 'patiala', 'dhrangadhra', 'avadi',\n",
       "       'sri ganganagar', 'pali', 'palampur', 'baleshwar', 'kotputli',\n",
       "       'panruti', 'samana', 'salem', 'meerut', 'gaya', 'vellore',\n",
       "       'guntur', '24 pargana', 'murshidabad', 'naihati', 'sambalpur',\n",
       "       'tuticorin', 'varanasi', 'panvel', 'chinchwad', 'mohali',\n",
       "       'durgapur', 'ajmer', 'dharwad', 'erode', 'coimbatore', 'akola',\n",
       "       'rewari', 'ahmednagar', 'bhatinda', 'gautam buddha nagar',\n",
       "       'belgaum', 'gwalior', 'madhupur', 'chandrapur', 'sirsa', 'karur',\n",
       "       'didwana', 'aonla', 'allahabad', 'kheralu', 'gondia', 'vijayawada',\n",
       "       'khagaria', 'valsad', 'madurai', 'asansol', 'koraput', 'abiramam',\n",
       "       'kottayam', 'bankura', 'ranchi', 'bikaner', 'hosur', 'junagadh',\n",
       "       'bomdila', 'jhansi', 'kalyan', 'tumkur', 'masaurhi', 'mangalore',\n",
       "       'annigeri', 'etawah', 'bagalkot', 'barabanki', 'aligarh',\n",
       "       'alandur', 'bhopal', 'villupuram', 'adilabad', 'srinagar',\n",
       "       'nadiad', 'arrah', 'samastipur', 'jamui', 'amravati', 'jagadhri',\n",
       "       'tiruchirappalli', 'sholinganallur', 'bhadravati', 'surendranagar',\n",
       "       'kota', 'kolhapur', 'rohtak', 'gadag', nan, 'pilkhuwa',\n",
       "       'faridabad', 'chirkunda', 'nagaur', 'gurdaspur', 'kanpur',\n",
       "       'dakshina kannada', 'amritsar', 'betia', 'hubli', 'alwar',\n",
       "       'rudrapur', 'mysore', 'bhubaneshwar', 'shahganj', 'murad nagar',\n",
       "       'motihari', 'akkalkot', 'bhiwani', 'hardoi', 'rajahmundry',\n",
       "       'malout', 'chittoor', 'baramati', 'rewa', 'tiruppur', 'gorakhpur',\n",
       "       'midnapore', 'goraya', 'gohana', 'chengalpattu', 'kasargod',\n",
       "       'gandhinagar', 'neyyattinkara', 'ghazipur', 'wardha', 'chengannur',\n",
       "       'chanpatia', 'navsari', 'madikeri', 'raipur', 'patan', 'ayodhya',\n",
       "       'mandvi', 'guna', 'nokha', 'nathdwara', 'dibrugarh', 'thanjavur',\n",
       "       'theni', 'kanpur nagar', 'bagru', 'jajpur', 'sikar', 'jalgaon',\n",
       "       'berhampur', 'halisahar', 'anantapur', 'alappuzha', 'kodikulam',\n",
       "       'kangra', 'madhubani', 'sadabad', 'unnao', 'saharanpur',\n",
       "       'jabalpur', 'tiruvannamalai', 'sehore', 'nalbari',\n",
       "       'uthagamandalam', 'sachin', 'namakkal', 'nanauta', 'yemmiganur',\n",
       "       'cuttack', 'fatehpur', 'roorkee', 'rupnagar', 'darbhanga', 'medak',\n",
       "       'kherli', 'vaijapur', 'kakinada', 'gharghoda', 'burla',\n",
       "       'chitradurga', 'padrauna', 'tirupati', 'durg', 'banka',\n",
       "       'raigarh(mh)', 'guwahati', 'khariar', 'maradu', 'nashik', 'washim',\n",
       "       'baran', 'chhindwara', 'sultanpur', 'malappuram', 'ernakulam',\n",
       "       'lalitpur', 'barasat', 'harij', 'ichalkaranji', 'phagwara',\n",
       "       'jatani', 'margao', 'bijnor', 'tezpur', 'silchar', 'baraut',\n",
       "       'manvi', 'silvasa', 'cuddalore', 'haridwar', 'chikamaglur',\n",
       "       'kanchrapara', 'yamuna nagar', 'dewas', 'bahadurgarh', 'sivakasi',\n",
       "       'agartala', 'alanganallur', 'kamareddy', 'kanchipuram', 'narnaul',\n",
       "       'bulandshahr', 'zirakpur', 'bharatpur', 'pathanamthitta', 'vaikom',\n",
       "       'dimapur', 'chirawa', 'kapurthala', 'haldwani', 'datia', 'vidisha',\n",
       "       'sidhi', 'kasba', 'chas', 'thoothukkudi', 'vasai', 'safidon',\n",
       "       'ambejogai', 'amethi', 'hapur', 'pinjore', 'aurangabad', 'kakrala',\n",
       "       'kushinagar', 'chakan', 'gubbi', 'tirunelveli', 'hanamankonda',\n",
       "       'nalgonda', 'daman', 'munger', 'kaithal', 'siddipet', 'baghpat',\n",
       "       'bhavnagar', 'islampur', 'muzaffarnagar', 'lakhimpur kheri',\n",
       "       'vapi', 'kannamangalam', 'irinjalakuda', 'kadapa', 'tambaram',\n",
       "       'aluva', 'pen', 'jhabua', 'davanagere', 'tonk', 'balaghat',\n",
       "       'kharagpur', 'balangir', 'rajnandgaon', 'thiruvallur', 'satara',\n",
       "       'hamirpur(hp)', 'rajsamand', 'nagapattinam', 'khedbrahma',\n",
       "       'kollam', 'rahuri', 'palanpur', 'muzaffarpur', 'virar', 'ranip',\n",
       "       'chalthan', 'hansi', 'hospet', 'sitapur', 'deoria', 'markapur',\n",
       "       'burdwan', 'ganganagar', 'hathras', 'barpeta', 'khatima',\n",
       "       'godhara', 'yanam', 'mhasla', 'bardhaman', 'baripara', 'kharar',\n",
       "       'tiruverkadu', 'warangal', 'nanded', 'amila', 'firozpur',\n",
       "       'sibsagar', 'dhamtari', 'budaun', 'ropar', 'morena', 'kasganj',\n",
       "       'nanpara', 'ratlam', 'goregaon', 'goa-panaji', 'bokaro', 'dhanbad',\n",
       "       'aliganj', 'kalyani', 'bilaspur', 'thakurdwara', 'kanyakumari',\n",
       "       'itanagar', 'raikot', 'karnal', 'assandh', 'nagercoil', 'chenani',\n",
       "       'berhampore', 'bharuch', 'khalilabad', 'pithampur', 'muddebihal',\n",
       "       'contai', 'buxar', 'nayahat', 'mauranipur', 'kheda', 'kawardha',\n",
       "       'shimoga', 'rampur', 'areraj', 'anand', 'almora', 'firozabad',\n",
       "       'ramgarh', 'hindupur', 'sarni', 'kendrapara', 'begusarai',\n",
       "       'nayagarh', 'satna', 'chikkaballapur', 'sonepat', 'kolar',\n",
       "       'bhilwara', 'mandi', 'nanjangud', 'tiruvallur', 'jalpaiguri',\n",
       "       'simdega', 'katihar', 'angul', 'nagaon', 'korba', 'mughalsarai',\n",
       "       'bhind', 'jamnagar', 'ashok nagar', 'mahboobnagar', 'muvattupuzha',\n",
       "       'auraiya', 'sirohi', 'dindigul', 'udhampur', 'howli', 'jammu',\n",
       "       'bellary', 'ratangarh', 'palakkad', 'gopalganj', 'rishikesh',\n",
       "       'nabarangapur', 'mandya', 'thrissur', 'churu', 'neral', 'daund',\n",
       "       'mandi dabwali', 'virudhunagar', 'bhiwadi', 'ambikapur', 'raigarh',\n",
       "       'pendra', 'gandhidham', 'alibag', 'dahod', 'bahadurpur', 'katni',\n",
       "       'port blair', 'hajipur', 'puttur', 'siwan', 'chinsurah', 'khammam',\n",
       "       'dungarpur', 'kupwara', 'ujjain', 'nellore', 'betul',\n",
       "       'karim nagar', 'bijapur', 'dadra & nagar haveli', 'ajnala',\n",
       "       'adoni', 'qadian', 'barnala', 'fatehabad', 'dankaur', 'herbertpur',\n",
       "       'aquem', 'pimpri chinchwad', 'kurnool', 'puri', 'ambur',\n",
       "       'vizianagaram', 'medinipur', 'sabarkantha', 'mulbagal', 'moga',\n",
       "       'sonbhadra', 'halol', 'nawanshahr', 'latur', 'sitamarhi',\n",
       "       'deoghar', 'shimla', 'idukki', 'greater noida', 'khopoli',\n",
       "       'jamtara', 'adalaj', 'purulia', 'anekal', 'basti', 'udupi', 'bhuj',\n",
       "       'muktsar', 'channapatna', 'tikamgarh', 'solan', 'dharmapuri',\n",
       "       'pratapgarh', 'lonavala', 'adyar', 'baloda', 'gangtok',\n",
       "       'bangarmau', 'hisar', 'bhatkal', 'mubarakpur', 'golaghat',\n",
       "       'manpur', 'dwarka', 'buldhana', 'perumbavoor', 'dharwar',\n",
       "       'vaniyambadi', 'bodhan', 'raebareli', 'swaimadhopur', 'challakere',\n",
       "       'tekanpur', 'uran', 'godavari', 'indi', 'ranga reddy', 'palwal',\n",
       "       'kozhikode', 'poonamallee', 'farrukhabad', 'ferozepur', 'jobner',\n",
       "       'krishna', 'jhajjar', 'akot', 'kadi', 'ponda', 'bolpur',\n",
       "       'chatrapur', 'hoshiarpur', 'fatehgarh sahib', 'jagdalpur',\n",
       "       'chaksu', 'dinajpur', 'deesa', 'pathankot', 'budhlada', 'anantnag',\n",
       "       'sidlaghatta'], dtype=object)"
      ]
     },
     "execution_count": 10,
     "metadata": {},
     "output_type": "execute_result"
    }
   ],
   "source": [
    "df['location'].unique()"
   ]
  },
  {
   "cell_type": "code",
   "execution_count": 11,
   "id": "197b1957",
   "metadata": {},
   "outputs": [],
   "source": [
    "y=df.sort_values('price')"
   ]
  },
  {
   "cell_type": "code",
   "execution_count": 12,
   "id": "a76f7cc3",
   "metadata": {},
   "outputs": [
    {
     "data": {
      "text/plain": [
       "[<matplotlib.lines.Line2D at 0x2a902588fa0>]"
      ]
     },
     "execution_count": 12,
     "metadata": {},
     "output_type": "execute_result"
    },
    {
     "data": {
      "image/png": "[encoded data removed]",
      "text/plain": [
       "<Figure size 432x288 with 1 Axes>"
      ]
     },
     "metadata": {
      "needs_background": "light"
     },
     "output_type": "display_data"
    }
   ],
   "source": [
    "mp.plot(y.price,y.model_year)"
   ]
  },
  {
   "cell_type": "code",
   "execution_count": 21,
   "id": "4a8787aa",
   "metadata": {},
   "outputs": [
    {
     "data": {
      "text/plain": [
       "owner\n",
       "first owner             6817\n",
       "fourth owner or more      73\n",
       "second owner             833\n",
       "third owner              134\n",
       "Name: price, dtype: int64"
      ]
     },
     "execution_count": 21,
     "metadata": {},
     "output_type": "execute_result"
    }
   ],
   "source": [
    "x=df.groupby('owner')['price'].count()          # owner percentage\n",
    "x"
   ]
  },
  {
   "cell_type": "code",
   "execution_count": 22,
   "id": "7588ab44",
   "metadata": {},
   "outputs": [
    {
     "data": {
      "image/png": "[encoded data removed]",
      "text/plain": [
       "<Figure size 432x288 with 1 Axes>"
      ]
     },
     "metadata": {},
     "output_type": "display_data"
    }
   ],
   "source": [
    "mylabels = [\"1st owner\", \"4th or more\",'2nd owner', \"3rd owner\"]\n",
    "\n",
    "\n",
    "mp.pie(x, labels = mylabels,autopct='%.f%%',explode=[0.2,0,0.3,0]);\n"
   ]
  },
  {
   "cell_type": "code",
   "execution_count": 61,
   "id": "0e71dab4",
   "metadata": {},
   "outputs": [
    {
     "data": {
      "text/plain": [
       "array([2017, 2016, 2012, 2020, 2018, 2014, 2019, 2015, 2011, 2009, 2021,\n",
       "       2013, 2008, 2010, 2007, 2003, 2006, 1991, 1994, 1997, 1998, 2001,\n",
       "       1990, 2004, 2005, 2002, 2000, 1999, 1982, 1950, 1978, 1970, 1993,\n",
       "       1985, 1996, 1986], dtype=int64)"
      ]
     },
     "execution_count": 61,
     "metadata": {},
     "output_type": "execute_result"
    }
   ],
   "source": [
    "df['model_year'].unique()"
   ]
  },
  {
   "cell_type": "code",
   "execution_count": 62,
   "id": "245f9b2b",
   "metadata": {},
   "outputs": [],
   "source": [
    "year=df.groupby('model_year')"
   ]
  },
  {
   "cell_type": "code",
   "execution_count": 63,
   "id": "518d559d",
   "metadata": {},
   "outputs": [],
   "source": [
    "a1=year.get_group(2017).sort_values('price').head(10) # to find top 10 chipest data"
   ]
  },
  {
   "cell_type": "code",
   "execution_count": 64,
   "id": "e3018a9e",
   "metadata": {},
   "outputs": [
    {
     "data": {
      "text/html": [
       "<div>\n",
       "<style scoped>\n",
       "    .dataframe tbody tr th:only-of-type {\n",
       "        vertical-align: middle;\n",
       "    }\n",
       "\n",
       "    .dataframe tbody tr th {\n",
       "        vertical-align: top;\n",
       "    }\n",
       "\n",
       "    .dataframe thead th {\n",
       "        text-align: right;\n",
       "    }\n",
       "</style>\n",
       "<table border=\"1\" class=\"dataframe\">\n",
       "  <thead>\n",
       "    <tr style=\"text-align: right;\">\n",
       "      <th></th>\n",
       "      <th>model_name</th>\n",
       "      <th>model_year</th>\n",
       "      <th>kms_driven</th>\n",
       "      <th>owner</th>\n",
       "      <th>location</th>\n",
       "      <th>mileage</th>\n",
       "      <th>power</th>\n",
       "      <th>price</th>\n",
       "    </tr>\n",
       "  </thead>\n",
       "  <tbody>\n",
       "    <tr>\n",
       "      <th>5739</th>\n",
       "      <td>KTM Duke 250cc 2017</td>\n",
       "      <td>2017</td>\n",
       "      <td>3500 Km</td>\n",
       "      <td>first owner</td>\n",
       "      <td>delhi</td>\n",
       "      <td>\\n\\n</td>\n",
       "      <td>29.60 bhp</td>\n",
       "      <td>5000</td>\n",
       "    </tr>\n",
       "    <tr>\n",
       "      <th>6520</th>\n",
       "      <td>Hero CD Deluxe 100cc 2017</td>\n",
       "      <td>2017</td>\n",
       "      <td>25000 Km</td>\n",
       "      <td>first owner</td>\n",
       "      <td>gurgaon</td>\n",
       "      <td>\\n\\n 65 kmpl</td>\n",
       "      <td>7.70 bhp</td>\n",
       "      <td>18000</td>\n",
       "    </tr>\n",
       "    <tr>\n",
       "      <th>1535</th>\n",
       "      <td>Hero HF Deluxe 100cc 2017</td>\n",
       "      <td>2017</td>\n",
       "      <td>20000 Km</td>\n",
       "      <td>first owner</td>\n",
       "      <td>gurgaon</td>\n",
       "      <td>\\n\\n 55 kmpl</td>\n",
       "      <td>6.15kW (8.36 Ps)</td>\n",
       "      <td>20000</td>\n",
       "    </tr>\n",
       "    <tr>\n",
       "      <th>5542</th>\n",
       "      <td>Bajaj Platina 100cc 2017</td>\n",
       "      <td>2017</td>\n",
       "      <td>Mileage 104 Kmpl</td>\n",
       "      <td>first owner</td>\n",
       "      <td>faridabad</td>\n",
       "      <td>\\n\\n 104 Kmpl</td>\n",
       "      <td>8.10 bhp</td>\n",
       "      <td>21000</td>\n",
       "    </tr>\n",
       "    <tr>\n",
       "      <th>7679</th>\n",
       "      <td>Bajaj CT 100 100cc 2017</td>\n",
       "      <td>2017</td>\n",
       "      <td>31968 Km</td>\n",
       "      <td>first owner</td>\n",
       "      <td>gurgaon</td>\n",
       "      <td>\\n\\n 89 kmpl</td>\n",
       "      <td>8.10 bhp</td>\n",
       "      <td>22500</td>\n",
       "    </tr>\n",
       "    <tr>\n",
       "      <th>5447</th>\n",
       "      <td>KTM RC 390cc 2017</td>\n",
       "      <td>2017</td>\n",
       "      <td>1900 Km</td>\n",
       "      <td>first owner</td>\n",
       "      <td>delhi</td>\n",
       "      <td>\\n\\n 26kmpl</td>\n",
       "      <td>42.30 bhp</td>\n",
       "      <td>23000</td>\n",
       "    </tr>\n",
       "    <tr>\n",
       "      <th>5289</th>\n",
       "      <td>Honda CD 110 Dream 2017</td>\n",
       "      <td>2017</td>\n",
       "      <td>Mileage 84 Kmpl</td>\n",
       "      <td>first owner</td>\n",
       "      <td>gurgaon</td>\n",
       "      <td>\\n\\n 84 Kmpl</td>\n",
       "      <td>8.25 bhp</td>\n",
       "      <td>23000</td>\n",
       "    </tr>\n",
       "    <tr>\n",
       "      <th>2260</th>\n",
       "      <td>Bajaj CT 100 100cc 2017</td>\n",
       "      <td>2017</td>\n",
       "      <td>36000 Km</td>\n",
       "      <td>fourth owner or more</td>\n",
       "      <td>delhi</td>\n",
       "      <td>\\n\\n 89 kmpl</td>\n",
       "      <td>8.10 bhp</td>\n",
       "      <td>25000</td>\n",
       "    </tr>\n",
       "    <tr>\n",
       "      <th>6256</th>\n",
       "      <td>Bajaj V15 150cc 2017</td>\n",
       "      <td>2017</td>\n",
       "      <td>19346 Km</td>\n",
       "      <td>first owner</td>\n",
       "      <td>gurgaon</td>\n",
       "      <td>\\n\\n 57 kmpl</td>\n",
       "      <td>11.80 bhp</td>\n",
       "      <td>26000</td>\n",
       "    </tr>\n",
       "    <tr>\n",
       "      <th>6193</th>\n",
       "      <td>Hero Passion Pro TR 100cc 2017</td>\n",
       "      <td>2017</td>\n",
       "      <td>89999 Km</td>\n",
       "      <td>first owner</td>\n",
       "      <td>tiruvallur</td>\n",
       "      <td>\\n\\n 84 kmpl</td>\n",
       "      <td>7.70 bhp</td>\n",
       "      <td>26365</td>\n",
       "    </tr>\n",
       "  </tbody>\n",
       "</table>\n",
       "</div>"
      ],
      "text/plain": [
       "                          model_name  model_year        kms_driven  \\\n",
       "5739             KTM Duke 250cc 2017        2017           3500 Km   \n",
       "6520       Hero CD Deluxe 100cc 2017        2017          25000 Km   \n",
       "1535       Hero HF Deluxe 100cc 2017        2017          20000 Km   \n",
       "5542        Bajaj Platina 100cc 2017        2017  Mileage 104 Kmpl   \n",
       "7679         Bajaj CT 100 100cc 2017        2017          31968 Km   \n",
       "5447               KTM RC 390cc 2017        2017           1900 Km   \n",
       "5289         Honda CD 110 Dream 2017        2017   Mileage 84 Kmpl   \n",
       "2260         Bajaj CT 100 100cc 2017        2017          36000 Km   \n",
       "6256            Bajaj V15 150cc 2017        2017          19346 Km   \n",
       "6193  Hero Passion Pro TR 100cc 2017        2017          89999 Km   \n",
       "\n",
       "                     owner    location        mileage             power  price  \n",
       "5739           first owner       delhi          \\n\\n          29.60 bhp   5000  \n",
       "6520           first owner     gurgaon   \\n\\n 65 kmpl          7.70 bhp  18000  \n",
       "1535           first owner     gurgaon   \\n\\n 55 kmpl  6.15kW (8.36 Ps)  20000  \n",
       "5542           first owner   faridabad  \\n\\n 104 Kmpl          8.10 bhp  21000  \n",
       "7679           first owner     gurgaon   \\n\\n 89 kmpl          8.10 bhp  22500  \n",
       "5447           first owner       delhi    \\n\\n 26kmpl         42.30 bhp  23000  \n",
       "5289           first owner     gurgaon   \\n\\n 84 Kmpl          8.25 bhp  23000  \n",
       "2260  fourth owner or more       delhi   \\n\\n 89 kmpl          8.10 bhp  25000  \n",
       "6256           first owner     gurgaon   \\n\\n 57 kmpl         11.80 bhp  26000  \n",
       "6193           first owner  tiruvallur   \\n\\n 84 kmpl          7.70 bhp  26365  "
      ]
     },
     "execution_count": 64,
     "metadata": {},
     "output_type": "execute_result"
    }
   ],
   "source": [
    "a1"
   ]
  }
 ],
 "metadata": {
  "kernelspec": {
   "display_name": "Python 3 (ipykernel)",
   "language": "python",
   "name": "python3"
  },
  "language_info": {
   "codemirror_mode": {
    "name": "ipython",
    "version": 3
   },
   "file_extension": ".py",
   "mimetype": "text/x-python",
   "name": "python",
   "nbconvert_exporter": "python",
   "pygments_lexer": "ipython3",
   "version": "3.9.12"
  }
 },
 "nbformat": 4,
 "nbformat_minor": 5
}
