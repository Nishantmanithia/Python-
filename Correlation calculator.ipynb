{
 "cells": [
  {
   "cell_type": "code",
   "execution_count": null,
   "id": "61780db4",
   "metadata": {},
   "outputs": [],
   "source": [
    "numSum, xsqsum, ysqsum, check, check2 = 0, 0, 0, True, True\n",
    "\n",
    "x = input(\"Enter the values of the x-variable in the sample(Seperate them by space): \").split()\n",
    "\n",
    "for i, j in enumerate(x):\n",
    "    if not j.isdigit():\n",
    "        check = False\n",
    "        break\n",
    "    x[i] = int(j)\n",
    "\n",
    "if check == True:\n",
    "    y = input(\"Enter the values of the y-variable in the sample(Seperate them by space): \").split()\n",
    "\n",
    "    for i, j in enumerate(y):\n",
    "        if not j.isdigit():\n",
    "            check2 = False\n",
    "            break\n",
    "        y[i] = int(j)\n",
    "\n",
    "    if check2 == True:\n",
    "        \n",
    "        xMean = sum(x)/len(x)          \n",
    "        yMean = sum(y)/len(y)\n",
    "\n",
    "        for i in range(len(x)):\n",
    "            numSum += ((x[i]-xMean)*(y[i]-yMean))\n",
    "            xsqsum += ((x[i]-xMean)**2)\n",
    "            ysqsum += ((y[i]-yMean)**2)\n",
    "            \n",
    "        print(\"The Correlation coefficient of your sample is: \", numSum/((xsqsum*ysqsum)**0.5))        \n",
    "    else: print(\"Enter only interger Values.\")        \n",
    "else: print(\"Enter only interger Values.\")"
   ]
  },
  {
   "cell_type": "code",
   "execution_count": null,
   "id": "1fc15d2b",
   "metadata": {},
   "outputs": [],
   "source": [
    "check = True\n",
    "x = input(\"Enter the values of the x-variable in the sample(Seperate them by space): \").split()\n",
    "\n",
    "for i, j in enumerate(x):\n",
    "    if not j.isdigit():\n",
    "        check = False\n",
    "        break\n",
    "    x[i] = int(j)\n",
    "\n",
    "if check == True:\n",
    "    x.sort()\n",
    "    \n",
    "    trim = int(len(x)*(int(input(\"Enter the percentage to trim: \")))/100)\n",
    "    \n",
    "    for i in range(trim):\n",
    "        x.pop(0)\n",
    "        \n",
    "    for i in range(trim):\n",
    "        x.pop()\n",
    "        \n",
    "    xMean = sum(x)/len(x)\n",
    "    \n",
    "    #print(x)\n",
    "    print(xMean)\n",
    "    \n",
    "else: print(\"Enter only interger Values.\")"
   ]
  }
 ],
 "metadata": {
  "kernelspec": {
   "display_name": "Python 3 (ipykernel)",
   "language": "python",
   "name": "python3"
  },
  "language_info": {
   "codemirror_mode": {
    "name": "ipython",
    "version": 3
   },
   "file_extension": ".py",
   "mimetype": "text/x-python",
   "name": "python",
   "nbconvert_exporter": "python",
   "pygments_lexer": "ipython3",
   "version": "3.9.12"
  }
 },
 "nbformat": 4,
 "nbformat_minor": 5
}
