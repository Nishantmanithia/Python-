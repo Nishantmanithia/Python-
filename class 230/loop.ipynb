{
 "cells": [
  {
   "cell_type": "code",
   "execution_count": 8,
   "id": "26c11366",
   "metadata": {},
   "outputs": [
    {
     "name": "stdout",
     "output_type": "stream",
     "text": [
      "Enter the terms8\n",
      "0\n",
      "1\n",
      "1\n",
      "2\n",
      "3\n",
      "5\n",
      "8\n",
      "13\n"
     ]
    }
   ],
   "source": [
    "#1\n",
    "# Enter number of terms needed                   #0,1,1,2,3,5....\n",
    "a=int(input(\"Enter the terms\"))\n",
    "f=0                                         #first element of series\n",
    "s=1                                         #second element of series\n",
    "if a<=0:\n",
    "    print(\"The requested series is\",f)\n",
    "else:\n",
    "    print(f)\n",
    "    print(s)\n",
    "    for x in range(2,a):\n",
    "        k=f+s                           \n",
    "        print(k)\n",
    "        f=s\n",
    "        s=k"
   ]
  },
  {
   "cell_type": "code",
   "execution_count": null,
   "id": "2942126c",
   "metadata": {},
   "outputs": [],
   "source": []
  }
 ],
 "metadata": {
  "kernelspec": {
   "display_name": "Python 3 (ipykernel)",
   "language": "python",
   "name": "python3"
  },
  "language_info": {
   "codemirror_mode": {
    "name": "ipython",
    "version": 3
   },
   "file_extension": ".py",
   "mimetype": "text/x-python",
   "name": "python",
   "nbconvert_exporter": "python",
   "pygments_lexer": "ipython3",
   "version": "3.9.12"
  }
 },
 "nbformat": 4,
 "nbformat_minor": 5
}
