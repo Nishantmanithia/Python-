{
 "cells": [
  {
   "cell_type": "markdown",
   "id": "b08646d5",
   "metadata": {},
   "source": [
    "# Python Directory"
   ]
  },
  {
   "cell_type": "markdown",
   "id": "f3e86f1b",
   "metadata": {},
   "source": [
    "A directory or folder is a collection of files and subdirectories."
   ]
  },
  {
   "cell_type": "markdown",
   "id": "c21ad039",
   "metadata": {},
   "source": [
    "### Python Directory and Files Management"
   ]
  },
  {
   "cell_type": "code",
   "execution_count": 11,
   "id": "429db214",
   "metadata": {},
   "outputs": [],
   "source": [
    "import os"
   ]
  },
  {
   "cell_type": "markdown",
   "id": "b6651420",
   "metadata": {},
   "source": [
    "Get Current Directory"
   ]
  },
  {
   "cell_type": "markdown",
   "id": "e938e7fa",
   "metadata": {},
   "source": [
    "the present working directory using the getcwd() method"
   ]
  },
  {
   "cell_type": "code",
   "execution_count": 14,
   "id": "c75ee126",
   "metadata": {},
   "outputs": [
    {
     "data": {
      "text/plain": [
       "'C:\\\\Users'"
      ]
     },
     "execution_count": 14,
     "metadata": {},
     "output_type": "execute_result"
    }
   ],
   "source": [
    "os.getcwd()"
   ]
  },
  {
   "cell_type": "markdown",
   "id": "6e876f7c",
   "metadata": {},
   "source": [
    "Changing Directory"
   ]
  },
  {
   "cell_type": "code",
   "execution_count": 16,
   "id": "555e873a",
   "metadata": {},
   "outputs": [],
   "source": [
    "os.chdir('C:\\\\Users\\\\ducat\\\\desktop')"
   ]
  },
  {
   "cell_type": "markdown",
   "id": "d390dd4b",
   "metadata": {},
   "source": [
    "List Directories and Files"
   ]
  },
  {
   "cell_type": "code",
   "execution_count": 17,
   "id": "e7f5478f",
   "metadata": {},
   "outputs": [
    {
     "data": {
      "text/plain": [
       "['Azuretraining.pdf', 'desktop.ini', 'Microsoft Teams.lnk']"
      ]
     },
     "execution_count": 17,
     "metadata": {},
     "output_type": "execute_result"
    }
   ],
   "source": [
    "os.listdir()"
   ]
  },
  {
   "cell_type": "code",
   "execution_count": 18,
   "id": "e3f46d27",
   "metadata": {},
   "outputs": [
    {
     "data": {
      "text/plain": [
       "['Azuretraining.pdf', 'desktop.ini', 'Microsoft Teams.lnk']"
      ]
     },
     "execution_count": 18,
     "metadata": {},
     "output_type": "execute_result"
    }
   ],
   "source": [
    "os.listdir('C:\\\\Users\\\\Ducat\\\\Desktop')"
   ]
  },
  {
   "cell_type": "markdown",
   "id": "5763ceb2",
   "metadata": {},
   "source": [
    "Making a New Directory"
   ]
  },
  {
   "cell_type": "code",
   "execution_count": 16,
   "id": "7b90af51",
   "metadata": {},
   "outputs": [],
   "source": [
    "os.mkdir('C:\\\\Users\\\\Ducat\\\\Desktop\\\\test')"
   ]
  },
  {
   "cell_type": "markdown",
   "id": "e097fdf0",
   "metadata": {},
   "source": [
    "Renaming a Directory or a File"
   ]
  },
  {
   "cell_type": "markdown",
   "id": "8a9185cb",
   "metadata": {},
   "source": [
    "The rmdir() method can only remove empty directories."
   ]
  },
  {
   "cell_type": "code",
   "execution_count": 23,
   "id": "c31f7e5c",
   "metadata": {},
   "outputs": [],
   "source": [
    "os.rmdir('C:\\\\Users\\\\Ducat\\\\Desktop\\\\test')\n"
   ]
  },
  {
   "cell_type": "markdown",
   "id": "e335eea1",
   "metadata": {},
   "source": [
    "To remove a non-empty directory, we can use the rmtree() method inside the shutil module."
   ]
  },
  {
   "cell_type": "code",
   "execution_count": 25,
   "id": "323ce864",
   "metadata": {},
   "outputs": [],
   "source": [
    "import shutil"
   ]
  },
  {
   "cell_type": "code",
   "execution_count": 1,
   "id": "97c4e5d5",
   "metadata": {},
   "outputs": [
    {
     "ename": "NameError",
     "evalue": "name 'shutil' is not defined",
     "output_type": "error",
     "traceback": [
      "\u001b[1;31m---------------------------------------------------------------------------\u001b[0m",
      "\u001b[1;31mNameError\u001b[0m                                 Traceback (most recent call last)",
      "Cell \u001b[1;32mIn [1], line 1\u001b[0m\n\u001b[1;32m----> 1\u001b[0m \u001b[43mshutil\u001b[49m\u001b[38;5;241m.\u001b[39mrmtree(\u001b[38;5;124m'\u001b[39m\u001b[38;5;124mtest\u001b[39m\u001b[38;5;124m'\u001b[39m)\n",
      "\u001b[1;31mNameError\u001b[0m: name 'shutil' is not defined"
     ]
    }
   ],
   "source": [
    "shutil.rmtree('test')\n"
   ]
  },
  {
   "cell_type": "code",
   "execution_count": null,
   "id": "c2256b35",
   "metadata": {},
   "outputs": [],
   "source": []
  },
  {
   "cell_type": "code",
   "execution_count": null,
   "id": "2d40ed07",
   "metadata": {},
   "outputs": [],
   "source": []
  },
  {
   "cell_type": "code",
   "execution_count": null,
   "id": "5569ef9b",
   "metadata": {},
   "outputs": [],
   "source": []
  }
 ],
 "metadata": {
  "kernelspec": {
   "display_name": "Python 3 (ipykernel)",
   "language": "python",
   "name": "python3"
  },
  "language_info": {
   "codemirror_mode": {
    "name": "ipython",
    "version": 3
   },
   "file_extension": ".py",
   "mimetype": "text/x-python",
   "name": "python",
   "nbconvert_exporter": "python",
   "pygments_lexer": "ipython3",
   "version": "3.9.12"
  }
 },
 "nbformat": 4,
 "nbformat_minor": 5
}
