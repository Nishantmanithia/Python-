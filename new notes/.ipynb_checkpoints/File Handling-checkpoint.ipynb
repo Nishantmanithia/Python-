{
 "cells": [
  {
   "cell_type": "markdown",
   "id": "338e5543",
   "metadata": {},
   "source": [
    "# File Handling"
   ]
  },
  {
   "cell_type": "markdown",
   "id": "2b4d4270",
   "metadata": {},
   "source": [
    "# Files"
   ]
  },
  {
   "cell_type": "markdown",
   "id": "20528266",
   "metadata": {},
   "source": [
    "Files are named locations on disk to store related information. They are used to permanently store data in a non-volatile memory."
   ]
  },
  {
   "cell_type": "markdown",
   "id": "65a26b00",
   "metadata": {},
   "source": [
    "several operation for creating, reading, updating, and deleting files.\n",
    "\n"
   ]
  },
  {
   "cell_type": "markdown",
   "id": "7fd3040e",
   "metadata": {},
   "source": [
    "The open() function takes two parameters; filename, and mode."
   ]
  },
  {
   "cell_type": "markdown",
   "id": "ec84ef9e",
   "metadata": {},
   "source": [
    "\"r\" - Read - Default value. Opens a file for reading, error if the file does not exist\n",
    "\n",
    "\"a\" - Append - Opens a file for appending, creates the file if it does not exist\n",
    "\n",
    "\"w\" - Write - Opens a file for writing, creates the file if it does not exist\n",
    "\n",
    "\"x\" - Create - Creates the specified file, returns an error if the file exists"
   ]
  },
  {
   "cell_type": "markdown",
   "id": "b05fad40",
   "metadata": {},
   "source": [
    "# Create a New File"
   ]
  },
  {
   "cell_type": "markdown",
   "id": "fcd7e039",
   "metadata": {},
   "source": [
    "\"x\" - Create - will create a file, returns an error if the file exist\n",
    "\n",
    "\"a\" - Append - will create a file if the specified file does not exist\n",
    "\n",
    "\"w\" - Write - will create a file if the specified file does not exist"
   ]
  },
  {
   "cell_type": "markdown",
   "id": "c803426b",
   "metadata": {},
   "source": [
    "Create a file called \"firstfile.txt\":"
   ]
  },
  {
   "cell_type": "code",
   "execution_count": 4,
   "id": "558c56a2",
   "metadata": {},
   "outputs": [
    {
     "ename": "FileExistsError",
     "evalue": "[Errno 17] File exists: 'firstfile.txt'",
     "output_type": "error",
     "traceback": [
      "\u001b[1;31m---------------------------------------------------------------------------\u001b[0m",
      "\u001b[1;31mFileExistsError\u001b[0m                           Traceback (most recent call last)",
      "Cell \u001b[1;32mIn [4], line 1\u001b[0m\n\u001b[1;32m----> 1\u001b[0m f \u001b[38;5;241m=\u001b[39m \u001b[38;5;28;43mopen\u001b[39;49m\u001b[43m(\u001b[49m\u001b[38;5;124;43m\"\u001b[39;49m\u001b[38;5;124;43mfirstfile.txt\u001b[39;49m\u001b[38;5;124;43m\"\u001b[39;49m\u001b[43m,\u001b[49m\u001b[43m \u001b[49m\u001b[38;5;124;43m\"\u001b[39;49m\u001b[38;5;124;43mx\u001b[39;49m\u001b[38;5;124;43m\"\u001b[39;49m\u001b[43m)\u001b[49m\n",
      "File \u001b[1;32m~\\AppData\\Local\\Programs\\Python\\Python311\\Lib\\site-packages\\IPython\\core\\interactiveshell.py:282\u001b[0m, in \u001b[0;36m_modified_open\u001b[1;34m(file, *args, **kwargs)\u001b[0m\n\u001b[0;32m    275\u001b[0m \u001b[38;5;28;01mif\u001b[39;00m file \u001b[38;5;129;01min\u001b[39;00m {\u001b[38;5;241m0\u001b[39m, \u001b[38;5;241m1\u001b[39m, \u001b[38;5;241m2\u001b[39m}:\n\u001b[0;32m    276\u001b[0m     \u001b[38;5;28;01mraise\u001b[39;00m \u001b[38;5;167;01mValueError\u001b[39;00m(\n\u001b[0;32m    277\u001b[0m         \u001b[38;5;124mf\u001b[39m\u001b[38;5;124m\"\u001b[39m\u001b[38;5;124mIPython won\u001b[39m\u001b[38;5;124m'\u001b[39m\u001b[38;5;124mt let you open fd=\u001b[39m\u001b[38;5;132;01m{\u001b[39;00mfile\u001b[38;5;132;01m}\u001b[39;00m\u001b[38;5;124m by default \u001b[39m\u001b[38;5;124m\"\u001b[39m\n\u001b[0;32m    278\u001b[0m         \u001b[38;5;124m\"\u001b[39m\u001b[38;5;124mas it is likely to crash IPython. If you know what you are doing, \u001b[39m\u001b[38;5;124m\"\u001b[39m\n\u001b[0;32m    279\u001b[0m         \u001b[38;5;124m\"\u001b[39m\u001b[38;5;124myou can use builtins\u001b[39m\u001b[38;5;124m'\u001b[39m\u001b[38;5;124m open.\u001b[39m\u001b[38;5;124m\"\u001b[39m\n\u001b[0;32m    280\u001b[0m     )\n\u001b[1;32m--> 282\u001b[0m \u001b[38;5;28;01mreturn\u001b[39;00m \u001b[43mio_open\u001b[49m\u001b[43m(\u001b[49m\u001b[43mfile\u001b[49m\u001b[43m,\u001b[49m\u001b[43m \u001b[49m\u001b[38;5;241;43m*\u001b[39;49m\u001b[43margs\u001b[49m\u001b[43m,\u001b[49m\u001b[43m \u001b[49m\u001b[38;5;241;43m*\u001b[39;49m\u001b[38;5;241;43m*\u001b[39;49m\u001b[43mkwargs\u001b[49m\u001b[43m)\u001b[49m\n",
      "\u001b[1;31mFileExistsError\u001b[0m: [Errno 17] File exists: 'firstfile.txt'"
     ]
    }
   ],
   "source": [
    "f = open(\"firstfile.txt\", \"x\")"
   ]
  },
  {
   "cell_type": "code",
   "execution_count": 3,
   "id": "cf7eb711",
   "metadata": {},
   "outputs": [],
   "source": [
    "f = open(\"firstfile.txt\", \"w\")"
   ]
  },
  {
   "cell_type": "markdown",
   "id": "c6fef3b6",
   "metadata": {},
   "source": [
    "the \"w\" method will overwrite the entire file."
   ]
  },
  {
   "cell_type": "markdown",
   "id": "0286b9a6",
   "metadata": {},
   "source": [
    "# Write to an Existing File"
   ]
  },
  {
   "cell_type": "markdown",
   "id": "dcfde705",
   "metadata": {},
   "source": [
    "write to an existing file, you must add a parameter to the open() function:\n",
    "\n",
    "\"a\" - Append - will append to the end of the file\n",
    "\n",
    "\"w\" - Write - will overwrite any existing content"
   ]
  },
  {
   "cell_type": "markdown",
   "id": "8816134d",
   "metadata": {},
   "source": [
    "Open the file \"firstfile.txt\" and append content to the file:"
   ]
  },
  {
   "cell_type": "code",
   "execution_count": 7,
   "id": "d5523734",
   "metadata": {},
   "outputs": [
    {
     "name": "stdout",
     "output_type": "stream",
     "text": [
      "oops! I have deleted the content!Now the file has content!\n"
     ]
    }
   ],
   "source": [
    "f = open(\"firstfile.txt\", \"a\")\n",
    "f.write(\"Now the file has content!\")\n",
    "f.close()\n",
    "\n",
    "#open and read the file after the appending:\n",
    "f = open(\"firstfile.txt\", \"r\")\n",
    "print(f.read())"
   ]
  },
  {
   "cell_type": "markdown",
   "id": "a87d0e5a",
   "metadata": {},
   "source": [
    "Open the file \"firstfile.txt\" and overwrite the content:"
   ]
  },
  {
   "cell_type": "code",
   "execution_count": 9,
   "id": "f6b63fd8",
   "metadata": {},
   "outputs": [
    {
     "name": "stdout",
     "output_type": "stream",
     "text": [
      "oops! I have deleted the content!\n"
     ]
    }
   ],
   "source": [
    "f = open(\"firstfile.txt\", \"w\")\n",
    "f.write(\"oops! I have deleted the content!\")\n",
    "f.close()\n",
    "\n",
    "#open and read the file after the appending:\n",
    "f = open(\"firstfile.txt\", \"r\")\n",
    "print(f.read())"
   ]
  },
  {
   "cell_type": "markdown",
   "id": "14d34eb4",
   "metadata": {},
   "source": [
    "The open() function returns a file object, which has a read() method for reading the content of the file:"
   ]
  },
  {
   "cell_type": "code",
   "execution_count": 10,
   "id": "e30744bf",
   "metadata": {},
   "outputs": [
    {
     "name": "stdout",
     "output_type": "stream",
     "text": [
      "oops! I have deleted the content!\n"
     ]
    }
   ],
   "source": [
    "f = open(\"firstfile.txt\", \"r\")\n",
    "print(f.read())"
   ]
  },
  {
   "cell_type": "markdown",
   "id": "d0f6fcc1",
   "metadata": {},
   "source": [
    "Read Only Parts of the File"
   ]
  },
  {
   "cell_type": "markdown",
   "id": "1958502c",
   "metadata": {},
   "source": [
    " the read() method returns the whole text, but you can also specify how many characters you want to return:"
   ]
  },
  {
   "cell_type": "code",
   "execution_count": 11,
   "id": "d716baa8",
   "metadata": {},
   "outputs": [
    {
     "name": "stdout",
     "output_type": "stream",
     "text": [
      "oops! I\n"
     ]
    }
   ],
   "source": [
    "f = open(\"firstfile.txt\", \"r\")\n",
    "print(f.read(7))"
   ]
  },
  {
   "cell_type": "markdown",
   "id": "a64dca3b",
   "metadata": {},
   "source": [
    "Read Lines"
   ]
  },
  {
   "cell_type": "markdown",
   "id": "8dc991cb",
   "metadata": {},
   "source": [
    "return one line by using the readline() method:"
   ]
  },
  {
   "cell_type": "code",
   "execution_count": 13,
   "id": "c5cd9fa1",
   "metadata": {},
   "outputs": [
    {
     "name": "stdout",
     "output_type": "stream",
     "text": [
      "oops! I have deleted the content!\n"
     ]
    }
   ],
   "source": [
    "f = open(\"firstfile.txt\", \"r\")\n",
    "print(f.readline())"
   ]
  },
  {
   "cell_type": "markdown",
   "id": "89de743f",
   "metadata": {},
   "source": [
    "By calling readline() two times, you can read the two first lines:"
   ]
  },
  {
   "cell_type": "markdown",
   "id": "a5d5d67a",
   "metadata": {},
   "source": [
    "By looping through the lines of the file, you can read the whole file, line by line:"
   ]
  },
  {
   "cell_type": "code",
   "execution_count": 14,
   "id": "3b82a2f6",
   "metadata": {},
   "outputs": [
    {
     "name": "stdout",
     "output_type": "stream",
     "text": [
      "oops! I have deleted the content!\n"
     ]
    }
   ],
   "source": [
    "f = open(\"firstfile.txt\", \"r\")\n",
    "for x in f:\n",
    "  print(x)"
   ]
  },
  {
   "cell_type": "markdown",
   "id": "403af145",
   "metadata": {},
   "source": [
    "# Close Files"
   ]
  },
  {
   "cell_type": "markdown",
   "id": "0f8f685e",
   "metadata": {},
   "source": [
    "It is a good practice to always close the file when you are done with it."
   ]
  },
  {
   "cell_type": "markdown",
   "id": "6f8bb9b0",
   "metadata": {},
   "source": [
    "Close the file when you are finish with it:"
   ]
  },
  {
   "cell_type": "code",
   "execution_count": 13,
   "id": "a33e6bd2",
   "metadata": {},
   "outputs": [
    {
     "name": "stdout",
     "output_type": "stream",
     "text": [
      "oops! I have deleted the content!\n"
     ]
    }
   ],
   "source": [
    "f = open(\"firstfile.txt\", \"r\")\n",
    "print(f.readline())\n",
    "f.close()"
   ]
  },
  {
   "cell_type": "markdown",
   "id": "43a6fb0c",
   "metadata": {},
   "source": [
    "# Delete a File"
   ]
  },
  {
   "cell_type": "markdown",
   "id": "ea122c5a",
   "metadata": {},
   "source": [
    "To delete a file, you must import the OS module, and run its os.remove() function:"
   ]
  },
  {
   "cell_type": "markdown",
   "id": "21d04dac",
   "metadata": {},
   "source": [
    "Remove the file"
   ]
  },
  {
   "cell_type": "code",
   "execution_count": 14,
   "id": "f47b95fc",
   "metadata": {},
   "outputs": [],
   "source": [
    "import os\n",
    "os.remove(\"firstfile.txt\")"
   ]
  },
  {
   "cell_type": "markdown",
   "id": "2c45b01f",
   "metadata": {},
   "source": [
    "Check if File exist"
   ]
  },
  {
   "cell_type": "markdown",
   "id": "e338b1c9",
   "metadata": {},
   "source": [
    "Check if file exists, then delete it:"
   ]
  },
  {
   "cell_type": "code",
   "execution_count": 15,
   "id": "f9fcf33e",
   "metadata": {},
   "outputs": [
    {
     "name": "stdout",
     "output_type": "stream",
     "text": [
      "The file does not exist\n"
     ]
    }
   ],
   "source": [
    "import os\n",
    "if os.path.exists(\"firstfile.txt\"):\n",
    "  os.remove(\"firstfile.txt\")\n",
    "else:\n",
    "  print(\"The file does not exist\")"
   ]
  },
  {
   "cell_type": "markdown",
   "id": "42c4cb6c",
   "metadata": {},
   "source": [
    "Delete Folder"
   ]
  },
  {
   "cell_type": "markdown",
   "id": "0ec5e0e2",
   "metadata": {},
   "source": [
    "To delete an entire folder, use the os.rmdir() method:"
   ]
  },
  {
   "cell_type": "code",
   "execution_count": null,
   "id": "2f84e523",
   "metadata": {},
   "outputs": [],
   "source": [
    "import os\n",
    "os.rmdir(\"myfolder\")"
   ]
  },
  {
   "cell_type": "code",
   "execution_count": null,
   "id": "5667f432",
   "metadata": {},
   "outputs": [],
   "source": []
  }
 ],
 "metadata": {
  "kernelspec": {
   "display_name": "Python 3 (ipykernel)",
   "language": "python",
   "name": "python3"
  },
  "language_info": {
   "codemirror_mode": {
    "name": "ipython",
    "version": 3
   },
   "file_extension": ".py",
   "mimetype": "text/x-python",
   "name": "python",
   "nbconvert_exporter": "python",
   "pygments_lexer": "ipython3",
   "version": "3.9.12"
  }
 },
 "nbformat": 4,
 "nbformat_minor": 5
}
