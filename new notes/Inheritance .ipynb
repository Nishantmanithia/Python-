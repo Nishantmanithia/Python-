{
 "cells": [
  {
   "cell_type": "markdown",
   "id": "0d293699",
   "metadata": {},
   "source": [
    "Inheritance too is very similar to the real life scenario. But here, the \"child classes\" inherit features from their \"parent classes.\" And the features they inherit here are termed as \"properties\" and \"methods\"!"
   ]
  },
  {
   "cell_type": "markdown",
   "id": "c80f8a65",
   "metadata": {},
   "source": [
    "Inheritance is the process by which a class can inherit or derive the properties(or data) and methods(or functions) of another class. Simply, the process of inheriting the properties of parent class into a child class is known as inheritance."
   ]
  },
  {
   "cell_type": "code",
   "execution_count": null,
   "id": "a8400b7e",
   "metadata": {},
   "outputs": [],
   "source": [
    "class parent_class:\n",
    "#body of parent class\n",
    "\n",
    "class child_class( parent_class): # inherits the parent class\n",
    "#body of child class"
   ]
  },
  {
   "cell_type": "code",
   "execution_count": 1,
   "id": "39844872",
   "metadata": {},
   "outputs": [
    {
     "name": "stdout",
     "output_type": "stream",
     "text": [
      "Hey! My name is John, I'm a male and I'm 15 years old\n",
      "I study in Sunshine Model School\n"
     ]
    }
   ],
   "source": [
    "class Human:     #parent class\n",
    "    def __init__(self, name, age, gender):\n",
    "        self.name = name\n",
    "        self.age = age\n",
    "        self.gender = gender\n",
    "\n",
    "    def description(self):\n",
    "        print(f\"Hey! My name is {self.name}, I'm a {self.gender} and I'm {self.age} years old\")\n",
    "\n",
    "class Boy(Human):    #child class\n",
    "    def schoolName(self, schoolname):\n",
    "        print(f\"I study in {schoolname}\")\n",
    "\n",
    "\n",
    "b = Boy('John', 15, 'male')\n",
    "b.description()\n",
    "b.schoolName(\"Sunshine Model School\")"
   ]
  },
  {
   "cell_type": "markdown",
   "id": "f1a23915",
   "metadata": {},
   "source": [
    "In the above example, the child class Boy is inheriting the parent class Human. So, when we create an object of the Boy class, we can access all the methods and properties of it's parent class, Human, because it is inheriting it.\n",
    "\n",
    "Also, we have defined a method in the Boy class, which is schoolName . The method schoolName cannot be accessed by the parent class object. But, we can obviously call schoolName method by creating the child class object(Boy)."
   ]
  },
  {
   "cell_type": "code",
   "execution_count": 2,
   "id": "6e38a5fc",
   "metadata": {},
   "outputs": [
    {
     "name": "stdout",
     "output_type": "stream",
     "text": [
      "Hey! My name is Lily, I'm a girl and I'm 20 years old\n"
     ]
    },
    {
     "ename": "AttributeError",
     "evalue": "'Human' object has no attribute 'schoolName'",
     "output_type": "error",
     "traceback": [
      "\u001b[1;31m---------------------------------------------------------------------------\u001b[0m",
      "\u001b[1;31mAttributeError\u001b[0m                            Traceback (most recent call last)",
      "Cell \u001b[1;32mIn [2], line 16\u001b[0m\n\u001b[0;32m     14\u001b[0m h \u001b[38;5;241m=\u001b[39m Human(\u001b[38;5;124m'\u001b[39m\u001b[38;5;124mLily\u001b[39m\u001b[38;5;124m'\u001b[39m,\u001b[38;5;241m20\u001b[39m,\u001b[38;5;124m'\u001b[39m\u001b[38;5;124mgirl\u001b[39m\u001b[38;5;124m'\u001b[39m) \u001b[38;5;66;03m# h is the object of the parent class - Human\u001b[39;00m\n\u001b[0;32m     15\u001b[0m h\u001b[38;5;241m.\u001b[39mdescription()\n\u001b[1;32m---> 16\u001b[0m \u001b[43mh\u001b[49m\u001b[38;5;241;43m.\u001b[39;49m\u001b[43mschoolName\u001b[49m(\u001b[38;5;124m'\u001b[39m\u001b[38;5;124mABC Academy\u001b[39m\u001b[38;5;124m'\u001b[39m) \u001b[38;5;66;03m#cannot access child class's method using parent class's object\u001b[39;00m\n",
      "\u001b[1;31mAttributeError\u001b[0m: 'Human' object has no attribute 'schoolName'"
     ]
    }
   ],
   "source": [
    "class Human:\n",
    "    def __init__(self,name,age,gender):\n",
    "        self.name = name\n",
    "        self.age = age\n",
    "        self.gender = gender\n",
    "    def description(self):\n",
    "        print(f\"Hey! My name is {self.name}, I'm a {self.gender} and I'm {self.age} years old\")\n",
    "        \n",
    "class Girl(Human):\n",
    "    def schoolName(self,schoolName):\n",
    "        print(\"I study in {schoolName}\")\n",
    "\n",
    "\n",
    "h = Human('Lily',20,'girl') # h is the object of the parent class - Human\n",
    "h.description()\n",
    "h.schoolName('ABC Academy') #cannot access child class's method using parent class's object"
   ]
  },
  {
   "cell_type": "markdown",
   "id": "790eeb29",
   "metadata": {},
   "source": [
    " we get the AttributeError: 'Human' object has no attribute 'schoolName'. Because, the child classes can access the data and properties of parent class but vice versa is not possible."
   ]
  },
  {
   "cell_type": "markdown",
   "id": "6a3e5b8e",
   "metadata": {},
   "source": [
    "Super()\n",
    "The function super() is a inheritance-related function that refers to the parent class. We can use it to find the method with a particular name in an object’s superclass."
   ]
  },
  {
   "cell_type": "markdown",
   "id": "50a9a084",
   "metadata": {},
   "source": [
    "the super() keyword followed by the method name we want to refer from our parent class."
   ]
  },
  {
   "cell_type": "code",
   "execution_count": null,
   "id": "3136d46f",
   "metadata": {},
   "outputs": [],
   "source": [
    "super().methodName()"
   ]
  },
  {
   "cell_type": "code",
   "execution_count": 3,
   "id": "fcebf9d9",
   "metadata": {},
   "outputs": [
    {
     "name": "stdout",
     "output_type": "stream",
     "text": [
      "Hey! My name is Lily, I'm a girl and I'm 20 years old\n",
      "I can dance\n"
     ]
    }
   ],
   "source": [
    "class Human:\n",
    "    def __init__(self,name,age,gender):\n",
    "        self.name = name\n",
    "        self.age = age\n",
    "        self.gender = gender\n",
    "    def description(self):\n",
    "        print(f\"Hey! My name is {self.name}, I'm a {self.gender} and I'm {self.age} years old\")\n",
    "    \n",
    "    def dance(self):\n",
    "        print(\"I can dance\")\n",
    "        \n",
    "class Girl(Human):\n",
    "    def dance(self):\n",
    "        print(\"I can do classic dance\")\n",
    "    def activity(self):\n",
    "        super().dance()\n",
    "g = Girl('Lily', 20, 'girl')\n",
    "g.description()\n",
    "g.activity()"
   ]
  },
  {
   "cell_type": "markdown",
   "id": "5c24d87e",
   "metadata": {},
   "source": [
    "we are calling the dance method using super().dance(). This will call the dance method from the Human class. So, it prints \"I can dance\". Although, there was already an implementation for dance() in Girl"
   ]
  },
  {
   "cell_type": "markdown",
   "id": "300469f0",
   "metadata": {},
   "source": [
    " Polymorphism is something similar to that. 'Poly' means multiple and 'morph' means forms. So, polymorphism altogether means something that have multiple forms. Or, 'some thing' that can have multiple behaviours depending upon the situation."
   ]
  },
  {
   "cell_type": "markdown",
   "id": "a1ed05ac",
   "metadata": {},
   "source": [
    "Polymorphism in OOPS refers to the functions having the same names but carrying different functionalities. Or, having the same function name, but different function signature(parameters passed to the function)."
   ]
  },
  {
   "cell_type": "code",
   "execution_count": 5,
   "id": "48667e6d",
   "metadata": {},
   "outputs": [
    {
     "name": "stdout",
     "output_type": "stream",
     "text": [
      "5\n",
      "4\n",
      "3\n"
     ]
    }
   ],
   "source": [
    "print(len('deepa'))\n",
    "print(len([1,2,5,9]))\n",
    "print(len({'1':'apple','2':'cherry','3':'banana'}))"
   ]
  },
  {
   "cell_type": "markdown",
   "id": "267f9d19",
   "metadata": {},
   "source": [
    "we also have polymorphism with the '+' addition operator. We can use it to 'add' integers or floats or any arithmetic addition operation. In the other hand, with String, it performs the 'concatenation' operation."
   ]
  },
  {
   "cell_type": "code",
   "execution_count": 6,
   "id": "5328d60e",
   "metadata": {},
   "outputs": [
    {
     "name": "stdout",
     "output_type": "stream",
     "text": [
      "9\n",
      "python programming\n",
      "5.5\n"
     ]
    }
   ],
   "source": [
    "x = 4 + 5\n",
    "y = 'python' + ' programming'\n",
    "z = 2.5 + 3\n",
    "print(x)\n",
    "print(y)\n",
    "print(z)"
   ]
  },
  {
   "cell_type": "markdown",
   "id": "18bf59c4",
   "metadata": {},
   "source": [
    "Polymorphism with Class Methods"
   ]
  },
  {
   "cell_type": "code",
   "execution_count": 7,
   "id": "2b49c25a",
   "metadata": {},
   "outputs": [
    {
     "name": "stdout",
     "output_type": "stream",
     "text": [
      "The monkey is yellow coloured!\n",
      "The monkey eats bananas!\n",
      "The rabbit is white coloured!\n",
      "The rabbit eats carrots!\n"
     ]
    }
   ],
   "source": [
    "class Monkey:\n",
    "    def color(self):\n",
    "        print(\"The monkey is yellow coloured!\")\n",
    "\n",
    "    def eats(self):\n",
    "        print(\"The monkey eats bananas!\")\n",
    "\n",
    "\n",
    "class Rabbit:\n",
    "    def color(self):\n",
    "        print(\"The rabbit is white coloured!\")\n",
    "\n",
    "    def eats(self):\n",
    "        print(\"The rabbit eats carrots!\")\n",
    "\n",
    "\n",
    "mon = Monkey()\n",
    "rab = Rabbit()\n",
    "for animal in (mon, rab):\n",
    "    animal.color()\n",
    "    animal.eats()"
   ]
  },
  {
   "cell_type": "markdown",
   "id": "8556c367",
   "metadata": {},
   "source": [
    "Polymorphism with Inheritance\n",
    "We can have polymorphism with inheritance as well. It is possible to modify a method in a child class that it has inherited from the parent class, adding it's own implementation to the method. This process of re-implementing a method in the child class is known as Method Overriding in Python. Here is an example that shows polymorphism with inheritance:"
   ]
  },
  {
   "cell_type": "code",
   "execution_count": 8,
   "id": "0f261f50",
   "metadata": {},
   "outputs": [
    {
     "name": "stdout",
     "output_type": "stream",
     "text": [
      "I have 4 sides. I am from Square class\n",
      "I have 3 sides. I am from Triangle class\n"
     ]
    }
   ],
   "source": [
    "class Shape:\n",
    "    def no_of_sides(self):\n",
    "        pass\n",
    "\n",
    "    def two_dimensional(self):\n",
    "        print(\"I am a 2D object. I am from shape class\")\n",
    "\n",
    "\n",
    "class Square(Shape):\n",
    "    \n",
    "    def no_of_sides(self):\n",
    "        print(\"I have 4 sides. I am from Square class\")\n",
    "\n",
    "class Triangle(Shape):\n",
    "    \n",
    "    def no_of_sides(self):\n",
    "        print(\"I have 3 sides. I am from Triangle class\")\n",
    "        \n",
    "# Create an object of Square class\n",
    "sq = Square()\n",
    "# Override the no_of_sides of parent class\n",
    "sq.no_of_sides()\n",
    "\n",
    "# Create an object of triangle class\n",
    "tr = Triangle()\n",
    "# Override the no_of_sides of parent class\n",
    "tr.no_of_sides()"
   ]
  },
  {
   "cell_type": "markdown",
   "id": "7e1d3be4",
   "metadata": {},
   "source": [
    "Encapsulation"
   ]
  },
  {
   "cell_type": "markdown",
   "id": "f6eb519a",
   "metadata": {},
   "source": [
    "The process of binding data and corresponding methods (behavior) together into a single unit is called encapsulation in Python."
   ]
  },
  {
   "cell_type": "markdown",
   "id": "73dc4a90",
   "metadata": {},
   "source": [
    "Encapsulation is a programming technique that binds the class members (variables and methods) together and prevents them from being accessed by other classes. It is one of the concept of OOPS in Python."
   ]
  },
  {
   "cell_type": "markdown",
   "id": "dda998a8",
   "metadata": {},
   "source": [
    "Encalpsulation is a way to ensure security. It hides the data from the access of outsiders. An organization can protect its object/information against unwanted access by clients or any unauthorized person by encapsulating it."
   ]
  },
  {
   "cell_type": "markdown",
   "id": "b35ea213",
   "metadata": {},
   "source": [
    "Getters and setters"
   ]
  },
  {
   "cell_type": "markdown",
   "id": "348c98fa",
   "metadata": {},
   "source": [
    "Use encapsulation for Data Hiding. We does so by defining getter and setter methods for our classes. If anyone wants some data, they can only get it by calling the getter method. And, if they want to set some vlaue to the data, they must use the setter method for that, otherwise they won't be able to do the same. But internally, how this getter and setter methods are performing remains hidden from outside world."
   ]
  },
  {
   "cell_type": "code",
   "execution_count": 9,
   "id": "155fcb7b",
   "metadata": {},
   "outputs": [
    {
     "name": "stdout",
     "output_type": "stream",
     "text": [
      "The name of book is The Witchers\n",
      "The name of book is The Witchers Returns\n"
     ]
    }
   ],
   "source": [
    "class Library:\n",
    "    def __init__(self, id, name):\n",
    "        self.bookId = id\n",
    "        self.bookName = name\n",
    "        \n",
    "    def setBookName(self, newBookName): #setters method to set the book name\n",
    "        self.bookName = newBookName\n",
    "        \n",
    "    def getBookName(self): #getters method to get the book name\n",
    "        print(f\"The name of book is {self.bookName}\")\n",
    "\n",
    "        \n",
    "book = Library(101,\"The Witchers\")\n",
    "book.getBookName()\n",
    "book.setBookName(\"The Witchers Returns\")\n",
    "book.getBookName()"
   ]
  },
  {
   "cell_type": "markdown",
   "id": "6bcb2602",
   "metadata": {},
   "source": [
    "we defined the getter getBookName() and setter setBookName() to get and set the names of books respectively. So, now we can only get and set the book names upon calling the methods, otherwise, we cannot directly get or modify any value. This promotes high security to our data, because others are not aware at a deep level how the following methods are implemented(if their access are restricted)."
   ]
  },
  {
   "cell_type": "markdown",
   "id": "01501dcc",
   "metadata": {},
   "source": [
    "Access Modifiers\n",
    "Access modifiers limit access to the variables and methods of a class. Python provides three types of access modifiers private, public, and protected.\n",
    "\n",
    "In Python, we don’t have direct access modifiers like public, private, and protected. We can achieve this by using single underscore and double underscores.\n",
    "\n",
    "Public Member: Accessible anywhere from outside the class.\n",
    "Private Member: Accessible only within the class\n",
    "Protected Member: Accessible within the class and it's sub-classes\n",
    "Single underscore _ represents Protected class. Double underscore __ represents Private class."
   ]
  },
  {
   "cell_type": "code",
   "execution_count": 10,
   "id": "d2945154",
   "metadata": {},
   "outputs": [
    {
     "name": "stdout",
     "output_type": "stream",
     "text": [
      "The Employee's name is John Gates\n",
      "The Employee's ID is 110514\n"
     ]
    },
    {
     "ename": "AttributeError",
     "evalue": "'Employee' object has no attribute 'salary'",
     "output_type": "error",
     "traceback": [
      "\u001b[1;31m---------------------------------------------------------------------------\u001b[0m",
      "\u001b[1;31mAttributeError\u001b[0m                            Traceback (most recent call last)",
      "Cell \u001b[1;32mIn [10], line 14\u001b[0m\n\u001b[0;32m     12\u001b[0m \u001b[38;5;28mprint\u001b[39m(\u001b[38;5;124mf\u001b[39m\u001b[38;5;124m\"\u001b[39m\u001b[38;5;124mThe Employee\u001b[39m\u001b[38;5;124m'\u001b[39m\u001b[38;5;124ms name is \u001b[39m\u001b[38;5;132;01m{\u001b[39;00memployee1\u001b[38;5;241m.\u001b[39mname\u001b[38;5;132;01m}\u001b[39;00m\u001b[38;5;124m\"\u001b[39m)\n\u001b[0;32m     13\u001b[0m \u001b[38;5;28mprint\u001b[39m(\u001b[38;5;124mf\u001b[39m\u001b[38;5;124m\"\u001b[39m\u001b[38;5;124mThe Employee\u001b[39m\u001b[38;5;124m'\u001b[39m\u001b[38;5;124ms ID is \u001b[39m\u001b[38;5;132;01m{\u001b[39;00memployee1\u001b[38;5;241m.\u001b[39m_empID\u001b[38;5;132;01m}\u001b[39;00m\u001b[38;5;124m\"\u001b[39m)\n\u001b[1;32m---> 14\u001b[0m \u001b[38;5;28mprint\u001b[39m(\u001b[38;5;124mf\u001b[39m\u001b[38;5;124m\"\u001b[39m\u001b[38;5;124mThe Employee\u001b[39m\u001b[38;5;124m'\u001b[39m\u001b[38;5;124ms salary is \u001b[39m\u001b[38;5;132;01m{\u001b[39;00m\u001b[43memployee1\u001b[49m\u001b[38;5;241;43m.\u001b[39;49m\u001b[43msalary\u001b[49m\u001b[38;5;132;01m}\u001b[39;00m\u001b[38;5;124m\"\u001b[39m) \u001b[38;5;66;03m#will throw an error because salary is defined as private\u001b[39;00m\n",
      "\u001b[1;31mAttributeError\u001b[0m: 'Employee' object has no attribute 'salary'"
     ]
    }
   ],
   "source": [
    "class Employee:\n",
    "    def __init__(self, name, employeeId, salary):\n",
    "        self.name = name    #making employee name public\n",
    "        self._empID = employeeId  #making employee ID protected\n",
    "        self.__salary = salary  #making salary private\n",
    "\n",
    "    def getSalary(self):\n",
    "        print(f\"The salary of Employee is {self.__salary}\")\n",
    "\n",
    "employee1 = Employee(\"John Gates\", 110514, \"$1500\")\n",
    "\n",
    "print(f\"The Employee's name is {employee1.name}\")\n",
    "print(f\"The Employee's ID is {employee1._empID}\")\n",
    "print(f\"The Employee's salary is {employee1.salary}\") #will throw an error because salary is defined as private"
   ]
  },
  {
   "cell_type": "code",
   "execution_count": 11,
   "id": "e6dc3da6",
   "metadata": {},
   "outputs": [
    {
     "name": "stdout",
     "output_type": "stream",
     "text": [
      "The Employee's name is John Gates\n",
      "The Employee's ID is 110514\n",
      "The salary of Employee is $1500\n"
     ]
    }
   ],
   "source": [
    "class Employee:\n",
    "    def __init__(self, name, employeeId, salary):\n",
    "        self.name = name    #making employee name public\n",
    "        self._empID = employeeId  #making employee ID protected\n",
    "        self.__salary = salary  #making salary private\n",
    "\n",
    "    def getSalary(self):\n",
    "        print(f\"The salary of Employee is {self.__salary}\")\n",
    "\n",
    "employee1 = Employee(\"John Gates\", 110514, \"$1500\")\n",
    "\n",
    "print(f\"The Employee's name is {employee1.name}\")\n",
    "print(f\"The Employee's ID is {employee1._empID}\")\n",
    "employee1.getSalary() #will be able to access the employee's salary now using the getter method"
   ]
  },
  {
   "cell_type": "code",
   "execution_count": null,
   "id": "b6b2642a",
   "metadata": {},
   "outputs": [],
   "source": []
  }
 ],
 "metadata": {
  "kernelspec": {
   "display_name": "Python 3 (ipykernel)",
   "language": "python",
   "name": "python3"
  },
  "language_info": {
   "codemirror_mode": {
    "name": "ipython",
    "version": 3
   },
   "file_extension": ".py",
   "mimetype": "text/x-python",
   "name": "python",
   "nbconvert_exporter": "python",
   "pygments_lexer": "ipython3",
   "version": "3.9.12"
  }
 },
 "nbformat": 4,
 "nbformat_minor": 5
}
