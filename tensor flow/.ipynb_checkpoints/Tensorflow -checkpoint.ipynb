{
 "cells": [
  {
   "cell_type": "code",
   "execution_count": 1,
   "id": "3458cacb",
   "metadata": {},
   "outputs": [],
   "source": [
    "import tensorflow as tf"
   ]
  },
  {
   "cell_type": "markdown",
   "id": "ba4ad1fa",
   "metadata": {},
   "source": [
    "# Verify that you ar working"
   ]
  },
  {
   "cell_type": "code",
   "execution_count": 2,
   "id": "d32f3cdb",
   "metadata": {},
   "outputs": [
    {
     "name": "stdout",
     "output_type": "stream",
     "text": [
      "2.12.0\n"
     ]
    }
   ],
   "source": [
    "print(tf.__version__)"
   ]
  },
  {
   "cell_type": "code",
   "execution_count": 3,
   "id": "db81fabe",
   "metadata": {},
   "outputs": [],
   "source": [
    "x = tf.constant(\"Test Tensor working.\")"
   ]
  },
  {
   "cell_type": "code",
   "execution_count": 4,
   "id": "f46f6549",
   "metadata": {},
   "outputs": [
    {
     "data": {
      "text/plain": [
       "tensorflow.python.framework.ops.EagerTensor"
      ]
     },
     "execution_count": 4,
     "metadata": {},
     "output_type": "execute_result"
    }
   ],
   "source": [
    "type(x)"
   ]
  },
  {
   "cell_type": "code",
   "execution_count": 5,
   "id": "f7ef4d4c",
   "metadata": {},
   "outputs": [
    {
     "name": "stdout",
     "output_type": "stream",
     "text": [
      "Test Tensor working.\r\n"
     ]
    }
   ],
   "source": [
    "tf.print(x)"
   ]
  },
  {
   "cell_type": "code",
   "execution_count": 6,
   "id": "80bbbeb5",
   "metadata": {},
   "outputs": [],
   "source": [
    "y = tf.constant(\"Checking\")"
   ]
  },
  {
   "cell_type": "code",
   "execution_count": 7,
   "id": "8041388b",
   "metadata": {},
   "outputs": [],
   "source": [
    "join = x + y"
   ]
  },
  {
   "cell_type": "code",
   "execution_count": 8,
   "id": "3fec3dfd",
   "metadata": {},
   "outputs": [
    {
     "name": "stdout",
     "output_type": "stream",
     "text": [
      "tf.Tensor(b'Test Tensor working.Checking', shape=(), dtype=string)\n"
     ]
    }
   ],
   "source": [
    "print(join)"
   ]
  },
  {
   "cell_type": "code",
   "execution_count": 9,
   "id": "08b4e11c",
   "metadata": {},
   "outputs": [
    {
     "name": "stdout",
     "output_type": "stream",
     "text": [
      "Test Tensor working.Checking\r\n"
     ]
    }
   ],
   "source": [
    "tf.print(join)"
   ]
  },
  {
   "cell_type": "code",
   "execution_count": 10,
   "id": "2e747f56",
   "metadata": {},
   "outputs": [
    {
     "name": "stdout",
     "output_type": "stream",
     "text": [
      "[[6 6]\n",
      " [6 6]]\r\n"
     ]
    }
   ],
   "source": [
    "x = tf.constant(6,shape=(2,2),dtype=float)\n",
    "tf.print(x)"
   ]
  },
  {
   "cell_type": "code",
   "execution_count": 11,
   "id": "0dd880fe",
   "metadata": {},
   "outputs": [],
   "source": [
    "a = tf.constant(2)\n",
    "b = tf.constant(3)"
   ]
  },
  {
   "cell_type": "code",
   "execution_count": 12,
   "id": "5cf2726b",
   "metadata": {},
   "outputs": [],
   "source": [
    "res = a / b"
   ]
  },
  {
   "cell_type": "code",
   "execution_count": 13,
   "id": "79b7303e",
   "metadata": {},
   "outputs": [
    {
     "name": "stdout",
     "output_type": "stream",
     "text": [
      "0.66666666666666663\r\n"
     ]
    }
   ],
   "source": [
    "res=tf.divide(a,b)\n",
    "tf.print(res)\n"
   ]
  },
  {
   "cell_type": "code",
   "execution_count": 14,
   "id": "4f64404d",
   "metadata": {},
   "outputs": [],
   "source": [
    "myarr = tf.fill(5,6)"
   ]
  },
  {
   "cell_type": "code",
   "execution_count": 15,
   "id": "32640128",
   "metadata": {},
   "outputs": [
    {
     "data": {
      "text/plain": [
       "TensorShape([5])"
      ]
     },
     "execution_count": 15,
     "metadata": {},
     "output_type": "execute_result"
    }
   ],
   "source": [
    "myarr.get_shape()"
   ]
  },
  {
   "cell_type": "code",
   "execution_count": 16,
   "id": "de9fd1c6",
   "metadata": {},
   "outputs": [
    {
     "name": "stdout",
     "output_type": "stream",
     "text": [
      "[6 6 6 6 6]\r\n"
     ]
    }
   ],
   "source": [
    "tf.print(myarr)"
   ]
  },
  {
   "cell_type": "code",
   "execution_count": 17,
   "id": "ec6cd8ec",
   "metadata": {},
   "outputs": [],
   "source": [
    "myarr = tf.fill((5,4),6)\n",
    "myarr = tf.ones(shape=(3,3))"
   ]
  },
  {
   "cell_type": "code",
   "execution_count": 18,
   "id": "5bbd5e4d",
   "metadata": {
    "scrolled": true
   },
   "outputs": [
    {
     "name": "stdout",
     "output_type": "stream",
     "text": [
      "[[1 1 1]\n",
      " [1 1 1]\n",
      " [1 1 1]]\r\n"
     ]
    }
   ],
   "source": [
    "tf.print(myarr)"
   ]
  },
  {
   "cell_type": "code",
   "execution_count": 19,
   "id": "9f93c15d",
   "metadata": {},
   "outputs": [
    {
     "data": {
      "text/plain": [
       "array([[1., 1., 1.],\n",
       "       [1., 1., 1.],\n",
       "       [1., 1., 1.]], dtype=float32)"
      ]
     },
     "execution_count": 19,
     "metadata": {},
     "output_type": "execute_result"
    }
   ],
   "source": [
    "myarr.numpy()"
   ]
  },
  {
   "cell_type": "code",
   "execution_count": 20,
   "id": "f940550d",
   "metadata": {},
   "outputs": [],
   "source": [
    "a = tf.constant([[1,2],\n",
    "               [3,4]])"
   ]
  },
  {
   "cell_type": "code",
   "execution_count": 21,
   "id": "2ba05804",
   "metadata": {},
   "outputs": [
    {
     "data": {
      "text/plain": [
       "TensorShape([3, 3])"
      ]
     },
     "execution_count": 21,
     "metadata": {},
     "output_type": "execute_result"
    }
   ],
   "source": [
    "myarr.get_shape()"
   ]
  },
  {
   "cell_type": "code",
   "execution_count": 22,
   "id": "1b09add8",
   "metadata": {},
   "outputs": [],
   "source": [
    "y = tf.random.normal((2,2),5,1)"
   ]
  },
  {
   "cell_type": "code",
   "execution_count": 23,
   "id": "fcf92805",
   "metadata": {},
   "outputs": [
    {
     "name": "stdout",
     "output_type": "stream",
     "text": [
      "[[5.63084698 4.36189842]\n",
      " [3.44063 4.61162376]]\r\n"
     ]
    }
   ],
   "source": [
    "tf.print(y)"
   ]
  },
  {
   "cell_type": "code",
   "execution_count": null,
   "id": "3c7a2f7d",
   "metadata": {},
   "outputs": [],
   "source": []
  }
 ],
 "metadata": {
  "kernelspec": {
   "display_name": "Python 3 (ipykernel)",
   "language": "python",
   "name": "python3"
  },
  "language_info": {
   "codemirror_mode": {
    "name": "ipython",
    "version": 3
   },
   "file_extension": ".py",
   "mimetype": "text/x-python",
   "name": "python",
   "nbconvert_exporter": "python",
   "pygments_lexer": "ipython3",
   "version": "3.9.12"
  }
 },
 "nbformat": 4,
 "nbformat_minor": 5
}
