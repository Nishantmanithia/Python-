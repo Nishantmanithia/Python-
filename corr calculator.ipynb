# Take number of point from user 
print("********Correlation calculator********")
num_data=int(input("enter the number of data point :"))
x_list=[]
y_list=[]

#loop for input the points 

for i in range(num_data):
    x_point=float(input("enter x point :"))
    y_point=float(input("enter y point :"))
    x_list.append(x_point)
    y_list.append(y_point)
print("x points",x_list)
print("x points",y_list)

# loop for calculate mean of x point 
Sum=0
for i in x_list:
    Sum+=i
x_mean=Sum/len(x_list)
print("x point mean:",x_mean)

# loop for calculate mean of x point
Sum=0
for i in y_list:
    Sum+=i
y_mean=Sum/len(y_list)
print("y point mean:",y_mean)
# loop for calculate sumation of (Xi-x_mean)*(Yi-y_mean)
s=0
for i in range(len(x_list)):
    s+=(x_list[i]-x_mean)*(y_list[i]-y_mean)
print("numerter value of formula :",s)

# calculate denominator value of formula 
s1=0
s2=0
for i in x_list:
    s1+=(i-x_mean)**2
for i in y_list:
    s2+=(i-y_mean)**2
print(s1)
print(s2)

t_s=(s1*s2)**(1/2)
print("Denominator value of formula :",t_s)
r=s/t_s
print("correlation b/w x and y is " ,r)

